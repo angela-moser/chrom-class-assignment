{
 "cells": [
  {
   "cell_type": "markdown",
   "id": "efa4b5ed-eda4-4f32-a594-52cae4dd409b",
   "metadata": {},
   "source": [
    "# **3 Protein Separation Assignemnt**\n",
    "## **Intro and instructions**\n",
    "Use this Jupyter Notebook to explore the effects of changing process parameters on a theoretical 3 protein separation process.<br>\n",
    "All information necessary for model configuration can be entered into this notebook and the simulation can be run from here.<br>\n",
    "___"
   ]
  },
  {
   "cell_type": "markdown",
   "id": "75dc9eb1-8693-4cd3-a836-840bfcfd1028",
   "metadata": {},
   "source": [
    "Necessary packages and scripts are imported here. (Do Not Edit)"
   ]
  },
  {
   "cell_type": "code",
   "execution_count": 1,
   "id": "5be5a6bd-3c87-4764-9a02-7c5f0228e18c",
   "metadata": {},
   "outputs": [],
   "source": [
    "import sys, os, time\n",
    "import pandas as pd\n",
    "from pathlib import Path\n",
    "import CADET_sim, create_ms, evaluate_sim, plotting"
   ]
  },
  {
   "cell_type": "markdown",
   "id": "5f43b72b-c5ba-4a21-8d12-ae1b5aa3004f",
   "metadata": {
    "tags": []
   },
   "source": [
    "**First, set the column parameters**<br>\n",
    "col_id: Column internal diameter in centimeters<br>\n",
    "col_length: Column length in centimeters<br>\n",
    "Ee: Extraparticle porosity (unitless)<br>\n",
    "Ep: Intraparticle porosity (unitless)<br>\n",
    "particle_diameter: Particle diameter in microns<br>\n",
    "pore_radius: Pore radius in nanometers<br>\n",
    "ionic_cap_mM: Ionic ligand density in moles per liter of total column volume<br>"
   ]
  },
  {
   "cell_type": "code",
   "execution_count": 2,
   "id": "f5343589-4e7d-4f38-ad64-a224cf2cd280",
   "metadata": {},
   "outputs": [],
   "source": [
    "col_id = 1\n",
    "col_length = 20\n",
    "Ee = 0.4\n",
    "Ep = 0.9\n",
    "particle_diameter = 85\n",
    "pore_radius = 32\n",
    "ionic_cap_mM = 91"
   ]
  },
  {
   "cell_type": "markdown",
   "id": "6cb8cdc6-2622-4f5c-9cbb-70532efe1666",
   "metadata": {},
   "source": [
    "**Next enter the feed concentrations in mg/mL**<br>\n",
    "component 1 is impurity A<br>\n",
    "component 2 is the product<br>\n",
    "component 3 is impurity B"
   ]
  },
  {
   "cell_type": "code",
   "execution_count": 3,
   "id": "dfeb9533-afb9-41d1-b551-b9feec68a3c3",
   "metadata": {},
   "outputs": [],
   "source": [
    "comp1_conc = 0.4\n",
    "comp2_conc = 2\n",
    "comp3_conc = 0.2"
   ]
  },
  {
   "cell_type": "markdown",
   "id": "ce9add3c-dfb7-4ee9-97f7-02722c689157",
   "metadata": {},
   "source": [
    "**Enter the feed component molecular weights in kDa**"
   ]
  },
  {
   "cell_type": "code",
   "execution_count": 4,
   "id": "258b3255-cfdc-4c6e-8c32-1c1bd0909ac4",
   "metadata": {},
   "outputs": [],
   "source": [
    "MW_1 = 36\n",
    "MW_2 = 20\n",
    "MW_3 = 9"
   ]
  },
  {
   "cell_type": "markdown",
   "id": "f1e5b51d-3612-4eb3-875d-a1b41196e6de",
   "metadata": {},
   "source": [
    "**Enter the isotherm parameters for each component**"
   ]
  },
  {
   "cell_type": "code",
   "execution_count": 5,
   "id": "5d83ec44-6548-4e6e-ab99-5b46fd859607",
   "metadata": {},
   "outputs": [],
   "source": [
    "Keq_1 = 0.0329\n",
    "steric_factor_1 = 25.5\n",
    "characteristic_charge_1 = 5.2\n",
    "\n",
    "Keq_2 = 0.0037\n",
    "steric_factor_2 = 15.2\n",
    "characteristic_charge_2 = 5.6\n",
    "\n",
    "Keq_3 = 0.016\n",
    "steric_factor_3 = 17\n",
    "characteristic_charge_3 = 3.3"
   ]
  },
  {
   "cell_type": "markdown",
   "id": "0564c35d-3c74-41c6-b764-a34bc59b9d67",
   "metadata": {},
   "source": [
    "**Enter the residence time for all steps in the process in minutes**"
   ]
  },
  {
   "cell_type": "code",
   "execution_count": 6,
   "id": "c25d050f-5157-4f89-9b6a-bbf386182086",
   "metadata": {},
   "outputs": [],
   "source": [
    "residence_time = 3"
   ]
  },
  {
   "cell_type": "markdown",
   "id": "e2baf0e1-f8a3-4fc0-9fdd-714c73fa9098",
   "metadata": {},
   "source": [
    "**Next set the salt concentrations for each step in the process in mM.**\n",
    "<br><br>\n",
    "The process has 5 steps:\n",
    "<br>\n",
    "load - where the feed solution is loaded onto the column in binding (low salt) conditions\n",
    "<br>\n",
    "wash - wash buffer, typically at similar conditions to the load but containing no protein, is flowed through the column to  wash out any remaining unbound feed solution\n",
    "<br>\n",
    "elution step 1 - the lowest salt elution step. This step should wash out as much of the impurities that bind more weakly than the target protein as possible, without eluting the target protein.\n",
    "<br>\n",
    "elution step 2 - the second salt step is where the product should elute, with as little of the more strongly binding impurities as possible\n",
    "<br>\n",
    "elution step 3 - this step is used to wash out any of the remaining strong binding proteins from the column\n",
    "<br><br>\n",
    "salt is used as the mobile phase modifier in this case because we are simulating ion exchange chromatography"
   ]
  },
  {
   "cell_type": "code",
   "execution_count": 7,
   "id": "9ea1607d-32f5-4593-b808-68fad3524963",
   "metadata": {},
   "outputs": [],
   "source": [
    "load_salt = 50\n",
    "wash_salt = 50\n",
    "step1_salt = 200\n",
    "step2_salt = 400\n",
    "step3_salt = 600"
   ]
  },
  {
   "cell_type": "markdown",
   "id": "6ce67cd1-80f4-454c-a90a-1a7b7f77cf66",
   "metadata": {},
   "source": [
    "**Enter the length of each step in the process in column volumes**<br>\n",
    "A typical wash or elution step length could be around 5 column volumes, but it could be less if elution happens quickly or more if the peak is very broad"
   ]
  },
  {
   "cell_type": "code",
   "execution_count": 8,
   "id": "4b642da1-98eb-49b2-ad63-5ed2df66b30e",
   "metadata": {},
   "outputs": [],
   "source": [
    "load_CV = 5\n",
    "wash_CV = 5\n",
    "step1_CV = 5\n",
    "step2_CV = 5\n",
    "step3_CV = 5"
   ]
  },
  {
   "cell_type": "markdown",
   "id": "d5d05fea-39c3-4b04-a5d8-3250f8dcb109",
   "metadata": {},
   "source": [
    "**Finally, enter the concentration of the product species that you would like to use to determine where fraction collection begins and ends** <br>\n",
    "This can be used to modulate the purity and yield of the process, but there is always a trade off between the two. For example, choosing to start fraction collection at a higher concentration may increase purity as less of the overlapping peak is collected, but this will decrease yield."
   ]
  },
  {
   "cell_type": "code",
   "execution_count": 9,
   "id": "4ee0d9ac-af3d-4342-9491-50e4c2a9ff1c",
   "metadata": {},
   "outputs": [],
   "source": [
    "cutoff = 0.5"
   ]
  },
  {
   "cell_type": "markdown",
   "id": "e9b825bd-5c64-4269-89ce-2e56e6252fb6",
   "metadata": {},
   "source": [
    "Run the following section to add all the inputs to the model"
   ]
  },
  {
   "cell_type": "code",
   "execution_count": 10,
   "id": "1fe0ad6d-9ad1-4fd0-a915-ba280b6da758",
   "metadata": {
    "jupyter": {
     "source_hidden": true
    },
    "tags": [
     "hidden"
    ]
   },
   "outputs": [],
   "source": [
    "run_conditions = {}\n",
    "           \n",
    "run_conditions['load salt [mM]'] = load_salt\n",
    "run_conditions['wash salt [mM]'] = wash_salt\n",
    "run_conditions['step 1 salt [mM]'] = step1_salt\n",
    "run_conditions['step 2 salt [mM]'] = step2_salt\n",
    "run_conditions['step 3 salt [mM]'] = step3_salt\n",
    "    \n",
    "run_conditions['load CVs'] = load_CV\n",
    "run_conditions['wash CVs'] = wash_CV\n",
    "run_conditions['step 1 CVs'] = step1_CV\n",
    "run_conditions['step 2 CVs'] = step2_CV\n",
    "run_conditions['step 3 CVs'] = step3_CV\n",
    "    \n",
    "run_conditions['residence time [min]'] = residence_time\n",
    "            \n",
    "run_conditions['impurity A concentration [mg/mL]'] = comp1_conc\n",
    "run_conditions['product concentration [mg/mL]'] = comp2_conc\n",
    "run_conditions['impurity B concentration [mg/mL]'] = comp3_conc\n",
    "   \n",
    "run_conditions['impurity A MW'] = MW_1\n",
    "run_conditions['product MW'] = MW_2\n",
    "run_conditions['impurity B MW'] = MW_3\n",
    "\n",
    "run_conditions['column ID [cm]'] = col_id\n",
    "run_conditions['column length [cm]'] = col_length  \n",
    "run_conditions['Ee'] = Ee\n",
    "run_conditions['Ep'] = Ep\n",
    "run_conditions['particle diameter [um]'] = particle_diameter\n",
    "run_conditions['pore radius [nm]'] = pore_radius\n",
    "run_conditions['ionic capacity [mol / L column]'] = ionic_cap_mM\n",
    "    \n",
    "run_conditions['Keq 1'] = Keq_1\n",
    "run_conditions['steric factor 1'] = steric_factor_1\n",
    "run_conditions['characteristic charge 1'] = characteristic_charge_1\n",
    "    \n",
    "run_conditions['Keq 2'] = Keq_2\n",
    "run_conditions['steric factor 2'] = steric_factor_2\n",
    "run_conditions['characteristic charge 2'] = characteristic_charge_2 \n",
    "    \n",
    "run_conditions['Keq 3'] = Keq_3\n",
    "run_conditions['steric factor 3'] = steric_factor_3\n",
    "run_conditions['characteristic charge 3'] = characteristic_charge_3\n",
    "\n",
    "run_conditions['collection cutoff [mg/mL]'] = cutoff\n",
    "\n",
    "ms = create_ms.create_ms(run_conditions)"
   ]
  },
  {
   "cell_type": "markdown",
   "id": "e9f8e760-add7-49d0-bc57-1006bc73f326",
   "metadata": {},
   "source": [
    "Run the simulation and generate the output table and plot.\n",
    "The simulation should take around 1 minute to run."
   ]
  },
  {
   "cell_type": "code",
   "execution_count": 11,
   "id": "2ba17032-7259-4539-b4c5-f1f2b7ba3515",
   "metadata": {
    "jupyter": {
     "source_hidden": true
    },
    "tags": [
     "hidden"
    ]
   },
   "outputs": [
    {
     "name": "stdout",
     "output_type": "stream",
     "text": [
      "\n",
      "Simulation Running!\n",
      "\n",
      "Forward Simulation Results:\n"
     ]
    },
    {
     "data": {
      "text/html": [
       "<div>\n",
       "<style scoped>\n",
       "    .dataframe tbody tr th:only-of-type {\n",
       "        vertical-align: middle;\n",
       "    }\n",
       "\n",
       "    .dataframe tbody tr th {\n",
       "        vertical-align: top;\n",
       "    }\n",
       "\n",
       "    .dataframe thead th {\n",
       "        text-align: right;\n",
       "    }\n",
       "</style>\n",
       "<table border=\"1\" class=\"dataframe\">\n",
       "  <thead>\n",
       "    <tr style=\"text-align: right;\">\n",
       "      <th></th>\n",
       "      <th>pool vol 1</th>\n",
       "      <th>pool vol 2</th>\n",
       "      <th>pool vol 3</th>\n",
       "      <th>pool C 1</th>\n",
       "      <th>pool C 2</th>\n",
       "      <th>pool C 3</th>\n",
       "      <th>yield 1</th>\n",
       "      <th>yield 2</th>\n",
       "      <th>yield 3</th>\n",
       "      <th>purity 1</th>\n",
       "      <th>purity 2</th>\n",
       "      <th>purity 3</th>\n",
       "      <th>Keq</th>\n",
       "      <th>sigma</th>\n",
       "      <th>nu</th>\n",
       "      <th>Dp</th>\n",
       "      <th>mass_bal</th>\n",
       "    </tr>\n",
       "  </thead>\n",
       "  <tbody>\n",
       "    <tr>\n",
       "      <th>0</th>\n",
       "      <td>2.352</td>\n",
       "      <td>1.301</td>\n",
       "      <td>0</td>\n",
       "      <td>0.003</td>\n",
       "      <td>5.739e-01</td>\n",
       "      <td>0</td>\n",
       "      <td>0.346</td>\n",
       "      <td>3.734e+01</td>\n",
       "      <td>0.0</td>\n",
       "      <td>0.313</td>\n",
       "      <td>1.019e+01</td>\n",
       "      <td>N/A</td>\n",
       "      <td>0.033</td>\n",
       "      <td>25.5</td>\n",
       "      <td>5.2</td>\n",
       "      <td>9.654e-12</td>\n",
       "      <td>99.999</td>\n",
       "    </tr>\n",
       "    <tr>\n",
       "      <th>1</th>\n",
       "      <td>2.352</td>\n",
       "      <td>1.301</td>\n",
       "      <td>0</td>\n",
       "      <td>0.935</td>\n",
       "      <td>5.057e+00</td>\n",
       "      <td>0</td>\n",
       "      <td>21.995</td>\n",
       "      <td>6.581e+01</td>\n",
       "      <td>0.0</td>\n",
       "      <td>99.390</td>\n",
       "      <td>8.981e+01</td>\n",
       "      <td>N/A</td>\n",
       "      <td>0.004</td>\n",
       "      <td>15.2</td>\n",
       "      <td>5.6</td>\n",
       "      <td>1.290e-11</td>\n",
       "      <td>100.003</td>\n",
       "    </tr>\n",
       "    <tr>\n",
       "      <th>2</th>\n",
       "      <td>2.352</td>\n",
       "      <td>1.301</td>\n",
       "      <td>0</td>\n",
       "      <td>0.003</td>\n",
       "      <td>-5.324e-13</td>\n",
       "      <td>0</td>\n",
       "      <td>0.658</td>\n",
       "      <td>-6.929e-11</td>\n",
       "      <td>0.0</td>\n",
       "      <td>0.297</td>\n",
       "      <td>-9.455e-12</td>\n",
       "      <td>N/A</td>\n",
       "      <td>0.016</td>\n",
       "      <td>17.0</td>\n",
       "      <td>3.3</td>\n",
       "      <td>1.869e-11</td>\n",
       "      <td>100.000</td>\n",
       "    </tr>\n",
       "  </tbody>\n",
       "</table>\n",
       "</div>"
      ],
      "text/plain": [
       "   pool vol 1  pool vol 2  pool vol 3  pool C 1   pool C 2  pool C 3  yield 1  \\\n",
       "0       2.352       1.301           0     0.003  5.739e-01         0    0.346   \n",
       "1       2.352       1.301           0     0.935  5.057e+00         0   21.995   \n",
       "2       2.352       1.301           0     0.003 -5.324e-13         0    0.658   \n",
       "\n",
       "     yield 2  yield 3  purity 1   purity 2 purity 3    Keq  sigma   nu  \\\n",
       "0  3.734e+01      0.0     0.313  1.019e+01      N/A  0.033   25.5  5.2   \n",
       "1  6.581e+01      0.0    99.390  8.981e+01      N/A  0.004   15.2  5.6   \n",
       "2 -6.929e-11      0.0     0.297 -9.455e-12      N/A  0.016   17.0  3.3   \n",
       "\n",
       "          Dp  mass_bal  \n",
       "0  9.654e-12    99.999  \n",
       "1  1.290e-11   100.003  \n",
       "2  1.869e-11   100.000  "
      ]
     },
     "metadata": {},
     "output_type": "display_data"
    },
    {
     "name": "stdout",
     "output_type": "stream",
     "text": [
      "\n",
      " Completed in 26.7196 seconds\n"
     ]
    },
    {
     "data": {
      "image/png": "[encoded data removed]",
      "text/plain": [
       "<Figure size 640x480 with 2 Axes>"
      ]
     },
     "metadata": {},
     "output_type": "display_data"
    }
   ],
   "source": [
    "tic = time.perf_counter()\n",
    "sim_solution = CADET_sim.run_cadet_sim(ms)\n",
    "\n",
    "# convert time from [sec] to [min], create a [CV] column\n",
    "sim_solution = evaluate_sim.process_simulation_data(sim_solution, ms) \n",
    "              \n",
    "# calculates pool volume, yield, etc. and saves results as a dictionary\n",
    "results = evaluate_sim.evaluate_simulation(sim_solution, ms)\n",
    "\n",
    "print('Forward Simulation Results:')    \n",
    "# Convert from list of dicts to DataFrame\n",
    "results = pd.DataFrame(results)\n",
    "# Print results table\n",
    "with pd.option_context('display.max_rows', 5,\n",
    "                       'display.max_columns', None,\n",
    "                       'display.precision', 3,\n",
    "                       ):\n",
    "    display(results)\n",
    "             \n",
    "# Generate plots\n",
    "plot = plotting.generate_plot(sim_solution, ms)  \n",
    "               \n",
    "# end timer and print run time\n",
    "toc = time.perf_counter()\n",
    "print(f'\\n Completed in {toc - tic:.4f} seconds')"
   ]
  }
 ],
 "metadata": {
  "kernelspec": {
   "display_name": "Python 3 (ipykernel)",
   "language": "python",
   "name": "python3"
  },
  "language_info": {
   "codemirror_mode": {
    "name": "ipython",
    "version": 3
   },
   "file_extension": ".py",
   "mimetype": "text/x-python",
   "name": "python",
   "nbconvert_exporter": "python",
   "pygments_lexer": "ipython3",
   "version": "3.12.0"
  }
 },
 "nbformat": 4,
 "nbformat_minor": 5
}
